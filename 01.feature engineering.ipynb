{
 "cells": [
  {
   "cell_type": "markdown",
   "id": "68441db3-05b3-40dc-a096-a614c5c3eb91",
   "metadata": {
    "tags": []
   },
   "source": [
    "# CNN for Trading - Part 1: Feature Engineering"
   ]
  },
  {
   "cell_type": "markdown",
   "id": "fe384d65-4cc7-45c8-b700-cd2ec49bb013",
   "metadata": {
    "jp-MarkdownHeadingCollapsed": true,
    "tags": []
   },
   "source": [
    "## Creating technical indicators at different intervals"
   ]
  },
  {
   "cell_type": "markdown",
   "id": "d6ece9a7-7217-47e8-a64b-9be7658bff7a",
   "metadata": {
    "tags": []
   },
   "source": [
    "## Imports & Settings"
   ]
  },
  {
   "cell_type": "code",
   "execution_count": 1,
   "id": "bcd8ac61-66bd-4e21-8d4a-9ddf2c0cd508",
   "metadata": {},
   "outputs": [],
   "source": [
    "import warnings\n",
    "warnings.filterwarnings('ignore')"
   ]
  },
  {
   "cell_type": "code",
   "execution_count": 2,
   "id": "81e2b32d-04ab-423d-9a32-43038db71733",
   "metadata": {},
   "outputs": [],
   "source": [
    "from talib import (RSI, BBANDS, MACD,\n",
    "                   NATR, WILLR, WMA,\n",
    "                   EMA, SMA, CCI, CMO,\n",
    "                   MACD, PPO, ROC,\n",
    "                   ADOSC, ADX, MOM, MA, STOCHF)\n",
    "import seaborn as sns\n",
    "import matplotlib.pyplot as plt\n",
    "from statsmodels.regression.rolling import RollingOLS\n",
    "import statsmodels.api as sm\n",
    "import pandas as pd\n",
    "import numpy as np\n",
    "from pathlib import Path\n",
    "%matplotlib inline"
   ]
  },
  {
   "cell_type": "markdown",
   "id": "cf983db3-2ea7-4809-9d22-a3df976eb3aa",
   "metadata": {},
   "source": [
    "## Loading Data"
   ]
  },
  {
   "cell_type": "code",
   "execution_count": 3,
   "id": "10e36595-9ef1-4f91-9588-56b1bc6feefa",
   "metadata": {},
   "outputs": [],
   "source": [
    "prices = pd.read_csv(\"data/kospi200 futures(30)_20211230.txt\", sep='\\t', header=None)\n",
    "prices.columns = [\"date\", \"time\", \"open\", \"high\", \"low\", \"close\", \"volume\"]"
   ]
  },
  {
   "cell_type": "code",
   "execution_count": 4,
   "id": "292dac3e-50f6-4ee1-91f4-3374f8d1ea0c",
   "metadata": {},
   "outputs": [
    {
     "data": {
      "text/html": [
       "<div>\n",
       "<style scoped>\n",
       "    .dataframe tbody tr th:only-of-type {\n",
       "        vertical-align: middle;\n",
       "    }\n",
       "\n",
       "    .dataframe tbody tr th {\n",
       "        vertical-align: top;\n",
       "    }\n",
       "\n",
       "    .dataframe thead th {\n",
       "        text-align: right;\n",
       "    }\n",
       "</style>\n",
       "<table border=\"1\" class=\"dataframe\">\n",
       "  <thead>\n",
       "    <tr style=\"text-align: right;\">\n",
       "      <th></th>\n",
       "      <th>date</th>\n",
       "      <th>time</th>\n",
       "      <th>open</th>\n",
       "      <th>high</th>\n",
       "      <th>low</th>\n",
       "      <th>close</th>\n",
       "      <th>volume</th>\n",
       "    </tr>\n",
       "  </thead>\n",
       "  <tbody>\n",
       "    <tr>\n",
       "      <th>0</th>\n",
       "      <td>20070102</td>\n",
       "      <td>1030</td>\n",
       "      <td>187.85</td>\n",
       "      <td>187.90</td>\n",
       "      <td>186.55</td>\n",
       "      <td>187.15</td>\n",
       "      <td>26616</td>\n",
       "    </tr>\n",
       "    <tr>\n",
       "      <th>1</th>\n",
       "      <td>20070102</td>\n",
       "      <td>1100</td>\n",
       "      <td>187.10</td>\n",
       "      <td>187.20</td>\n",
       "      <td>186.45</td>\n",
       "      <td>186.75</td>\n",
       "      <td>13571</td>\n",
       "    </tr>\n",
       "    <tr>\n",
       "      <th>2</th>\n",
       "      <td>20070102</td>\n",
       "      <td>1130</td>\n",
       "      <td>186.75</td>\n",
       "      <td>187.50</td>\n",
       "      <td>186.70</td>\n",
       "      <td>187.35</td>\n",
       "      <td>17088</td>\n",
       "    </tr>\n",
       "    <tr>\n",
       "      <th>3</th>\n",
       "      <td>20070102</td>\n",
       "      <td>1200</td>\n",
       "      <td>187.40</td>\n",
       "      <td>187.55</td>\n",
       "      <td>187.25</td>\n",
       "      <td>187.45</td>\n",
       "      <td>5399</td>\n",
       "    </tr>\n",
       "    <tr>\n",
       "      <th>4</th>\n",
       "      <td>20070102</td>\n",
       "      <td>1230</td>\n",
       "      <td>187.45</td>\n",
       "      <td>187.60</td>\n",
       "      <td>187.30</td>\n",
       "      <td>187.35</td>\n",
       "      <td>6043</td>\n",
       "    </tr>\n",
       "    <tr>\n",
       "      <th>...</th>\n",
       "      <td>...</td>\n",
       "      <td>...</td>\n",
       "      <td>...</td>\n",
       "      <td>...</td>\n",
       "      <td>...</td>\n",
       "      <td>...</td>\n",
       "      <td>...</td>\n",
       "    </tr>\n",
       "    <tr>\n",
       "      <th>49442</th>\n",
       "      <td>20211230</td>\n",
       "      <td>1400</td>\n",
       "      <td>394.60</td>\n",
       "      <td>394.90</td>\n",
       "      <td>394.30</td>\n",
       "      <td>394.75</td>\n",
       "      <td>9365</td>\n",
       "    </tr>\n",
       "    <tr>\n",
       "      <th>49443</th>\n",
       "      <td>20211230</td>\n",
       "      <td>1430</td>\n",
       "      <td>394.80</td>\n",
       "      <td>395.30</td>\n",
       "      <td>394.20</td>\n",
       "      <td>394.30</td>\n",
       "      <td>14181</td>\n",
       "    </tr>\n",
       "    <tr>\n",
       "      <th>49444</th>\n",
       "      <td>20211230</td>\n",
       "      <td>1500</td>\n",
       "      <td>394.25</td>\n",
       "      <td>394.45</td>\n",
       "      <td>393.65</td>\n",
       "      <td>393.75</td>\n",
       "      <td>16139</td>\n",
       "    </tr>\n",
       "    <tr>\n",
       "      <th>49445</th>\n",
       "      <td>20211230</td>\n",
       "      <td>1530</td>\n",
       "      <td>393.75</td>\n",
       "      <td>394.50</td>\n",
       "      <td>393.65</td>\n",
       "      <td>394.45</td>\n",
       "      <td>14634</td>\n",
       "    </tr>\n",
       "    <tr>\n",
       "      <th>49446</th>\n",
       "      <td>20211230</td>\n",
       "      <td>1545</td>\n",
       "      <td>394.45</td>\n",
       "      <td>394.45</td>\n",
       "      <td>394.10</td>\n",
       "      <td>394.25</td>\n",
       "      <td>6527</td>\n",
       "    </tr>\n",
       "  </tbody>\n",
       "</table>\n",
       "<p>49447 rows × 7 columns</p>\n",
       "</div>"
      ],
      "text/plain": [
       "           date  time    open    high     low   close  volume\n",
       "0      20070102  1030  187.85  187.90  186.55  187.15   26616\n",
       "1      20070102  1100  187.10  187.20  186.45  186.75   13571\n",
       "2      20070102  1130  186.75  187.50  186.70  187.35   17088\n",
       "3      20070102  1200  187.40  187.55  187.25  187.45    5399\n",
       "4      20070102  1230  187.45  187.60  187.30  187.35    6043\n",
       "...         ...   ...     ...     ...     ...     ...     ...\n",
       "49442  20211230  1400  394.60  394.90  394.30  394.75    9365\n",
       "49443  20211230  1430  394.80  395.30  394.20  394.30   14181\n",
       "49444  20211230  1500  394.25  394.45  393.65  393.75   16139\n",
       "49445  20211230  1530  393.75  394.50  393.65  394.45   14634\n",
       "49446  20211230  1545  394.45  394.45  394.10  394.25    6527\n",
       "\n",
       "[49447 rows x 7 columns]"
      ]
     },
     "execution_count": 4,
     "metadata": {},
     "output_type": "execute_result"
    }
   ],
   "source": [
    "prices"
   ]
  },
  {
   "cell_type": "markdown",
   "id": "886bd43b-9024-40f0-91d6-2f3109603727",
   "metadata": {},
   "source": [
    "## Generate Technical Indicators Factors"
   ]
  },
  {
   "cell_type": "code",
   "execution_count": 5,
   "id": "348ea067-6796-4768-b958-e549065527e5",
   "metadata": {},
   "outputs": [],
   "source": [
    "T = [5,10,15,20,30,40,50,60,80,100,120,140,160,180,200,240]"
   ]
  },
  {
   "cell_type": "code",
   "execution_count": 6,
   "id": "b80e1da4-10bb-44d9-8285-deaaf07e90f5",
   "metadata": {},
   "outputs": [
    {
     "data": {
      "text/plain": [
       "[5, 10, 15, 20, 30, 40, 50, 60, 80, 100, 120, 140, 160, 180, 200, 240]"
      ]
     },
     "execution_count": 6,
     "metadata": {},
     "output_type": "execute_result"
    }
   ],
   "source": [
    "T"
   ]
  },
  {
   "cell_type": "code",
   "execution_count": 7,
   "id": "8f72996d-c883-421b-bb8f-b3a851a501b3",
   "metadata": {},
   "outputs": [],
   "source": [
    "T = list(x * 3 + 4 for x in range(1, 17))"
   ]
  },
  {
   "cell_type": "markdown",
   "id": "f6ff65e1-0453-443c-bd39-dcf6d88e72cc",
   "metadata": {},
   "source": [
    "### Relative Strength Index (RSI)"
   ]
  },
  {
   "cell_type": "code",
   "execution_count": 8,
   "id": "411da2dd-b3ea-4098-9b40-b5a4ec5311c8",
   "metadata": {},
   "outputs": [],
   "source": [
    "for t in T:\n",
    "    prices[f'{t:02}_RSI'] = RSI(prices.close.copy(), timeperiod=t)"
   ]
  },
  {
   "cell_type": "markdown",
   "id": "88a9d3bc-6b36-459a-8194-6cc182f8e107",
   "metadata": {},
   "source": [
    "### Williams %R"
   ]
  },
  {
   "cell_type": "code",
   "execution_count": 9,
   "id": "fe8b4dee-1983-4645-b293-2a0756aca17f",
   "metadata": {
    "ExecuteTime": {
     "end_time": "2021-02-23T16:44:51.356647Z",
     "start_time": "2021-02-23T16:44:03.645883Z"
    }
   },
   "outputs": [],
   "source": [
    "for t in T:\n",
    "    prices[f'{t:02}_WILLR'] = WILLR(prices.high.copy(), prices.low.copy(), prices.close.copy(), timeperiod=t)"
   ]
  },
  {
   "cell_type": "markdown",
   "id": "2a31a63a-7063-4fcc-b7e3-63f7ddf7f681",
   "metadata": {},
   "source": [
    "### Compute Bollinger Bands"
   ]
  },
  {
   "cell_type": "code",
   "execution_count": 10,
   "id": "b19bf410-1176-4603-957a-adbc8bcba773",
   "metadata": {
    "ExecuteTime": {
     "end_time": "2021-02-23T16:44:51.359531Z",
     "start_time": "2021-02-23T16:44:51.357628Z"
    }
   },
   "outputs": [],
   "source": [
    "def compute_bb(close, timeperiod):\n",
    "    high, mid, low = BBANDS(close, timeperiod=timeperiod)\n",
    "    return pd.DataFrame({f'{timeperiod:02}_BBH': high, f'{timeperiod:02}_BBL': low}, index=close.index)"
   ]
  },
  {
   "cell_type": "code",
   "execution_count": 11,
   "id": "839d0d72-0016-4330-86f6-5dbeba5f0f37",
   "metadata": {
    "ExecuteTime": {
     "end_time": "2021-02-23T16:47:38.075231Z",
     "start_time": "2021-02-23T16:44:51.361691Z"
    }
   },
   "outputs": [],
   "source": [
    "for t in T:\n",
    "    bbh, bbl = f'{t:02}_BBH', f'{t:02}_BBL'\n",
    "    bb = compute_bb(prices.close.copy(), timeperiod=t)\n",
    "    prices[bbh] = bb[bbh].sub(prices.close).div(prices.close).apply(np.log1p)\n",
    "    prices[bbl] = prices.close.sub(bb[bbl]).div(prices.close).apply(np.log1p)"
   ]
  },
  {
   "cell_type": "markdown",
   "id": "bc1c1dc4-a9d7-40d3-9ab6-b162d57e0f4f",
   "metadata": {},
   "source": [
    "### Moving Average"
   ]
  },
  {
   "cell_type": "code",
   "execution_count": 12,
   "id": "883db0c5-6471-43d3-99a2-13da5dbeb879",
   "metadata": {
    "ExecuteTime": {
     "end_time": "2021-02-23T16:48:36.081047Z",
     "start_time": "2021-02-23T16:47:38.076757Z"
    }
   },
   "outputs": [],
   "source": [
    "for t in T:\n",
    "    prices[f'{t:02}_MA'] = MA(prices.close.copy(), timeperiod=t).pct_change()"
   ]
  },
  {
   "cell_type": "markdown",
   "id": "b4c8b163-b85a-4707-9bf1-273b5541fd2d",
   "metadata": {},
   "source": [
    "### Percentage Price Oscillator"
   ]
  },
  {
   "cell_type": "code",
   "execution_count": 13,
   "id": "c6921d90-67e4-49d6-8469-ce4e6543a741",
   "metadata": {
    "ExecuteTime": {
     "end_time": "2021-02-23T16:51:07.164873Z",
     "start_time": "2021-02-23T16:48:36.081894Z"
    }
   },
   "outputs": [],
   "source": [
    "for t in T:\n",
    "    prices[f'{t:02}_PPO'] = PPO(prices.close.copy(), fastperiod=t, matype=1)"
   ]
  },
  {
   "cell_type": "markdown",
   "id": "e5e65bee-a0fe-4a2f-bab7-3a5b0f0576c9",
   "metadata": {},
   "source": [
    "### Moving Average Convergence/Divergence"
   ]
  },
  {
   "cell_type": "code",
   "execution_count": 14,
   "id": "35433ab9-d5a4-483c-bb48-277533ce1b7f",
   "metadata": {
    "ExecuteTime": {
     "end_time": "2021-02-23T16:51:07.168458Z",
     "start_time": "2021-02-23T16:51:07.166104Z"
    }
   },
   "outputs": [],
   "source": [
    "def compute_macd(close, signalperiod):\n",
    "    macd = MACD(close, signalperiod=signalperiod)[0]\n",
    "    return (macd - np.mean(macd))/np.std(macd)"
   ]
  },
  {
   "cell_type": "code",
   "execution_count": 15,
   "id": "d7d852c2-50f5-4c5a-ac8f-31e2dd3aa2e5",
   "metadata": {
    "ExecuteTime": {
     "end_time": "2021-02-23T16:53:45.147391Z",
     "start_time": "2021-02-23T16:51:07.169518Z"
    }
   },
   "outputs": [],
   "source": [
    "for t in T:\n",
    "    prices[f'{t:02}_MACD'] = compute_macd(prices.close.copy(), signalperiod=t)"
   ]
  },
  {
   "cell_type": "markdown",
   "id": "1677c80b-c343-4f3b-8cb8-ebca4991a90a",
   "metadata": {},
   "source": [
    "### Momentum"
   ]
  },
  {
   "cell_type": "code",
   "execution_count": 16,
   "id": "20ce80d0-3c1f-4fc1-a750-4210881059d3",
   "metadata": {
    "ExecuteTime": {
     "end_time": "2021-02-23T16:56:17.798498Z",
     "start_time": "2021-02-23T16:53:45.148305Z"
    }
   },
   "outputs": [],
   "source": [
    "for t in T:\n",
    "    prices[f'{t:02}_MOM'] = MOM(prices.close.copy(), timeperiod=t)"
   ]
  },
  {
   "cell_type": "markdown",
   "id": "b349c280-3571-4bbd-89a0-fe065cea2857",
   "metadata": {},
   "source": [
    "### Weighted Moving Average"
   ]
  },
  {
   "cell_type": "code",
   "execution_count": 17,
   "id": "aa7a8788-8fc1-4022-b6e3-0c24d3d77ff2",
   "metadata": {
    "ExecuteTime": {
     "end_time": "2021-02-23T16:58:49.984209Z",
     "start_time": "2021-02-23T16:56:17.799393Z"
    }
   },
   "outputs": [],
   "source": [
    "for t in T:\n",
    "    prices[f'{t:02}_WMA'] = WMA(prices.close.copy(), timeperiod=t).pct_change()"
   ]
  },
  {
   "cell_type": "markdown",
   "id": "f958b00e-12aa-455f-be55-a05df8b0bb98",
   "metadata": {},
   "source": [
    "### Exponential Moving Average"
   ]
  },
  {
   "cell_type": "code",
   "execution_count": 18,
   "id": "72d92d1e-5291-4809-af46-37bcc099cf78",
   "metadata": {
    "ExecuteTime": {
     "end_time": "2021-02-23T17:01:21.951204Z",
     "start_time": "2021-02-23T16:58:49.985306Z"
    }
   },
   "outputs": [],
   "source": [
    "for t in T:\n",
    "    prices[f'{t:02}_EMA'] = EMA(prices.close.copy(), timeperiod=t).pct_change()"
   ]
  },
  {
   "cell_type": "markdown",
   "id": "b6d2fdc8-15ab-4bbc-bca7-08d319c87726",
   "metadata": {},
   "source": [
    "### Commodity Channel Index"
   ]
  },
  {
   "cell_type": "code",
   "execution_count": 19,
   "id": "aae6aa6a-849e-4ce1-a29f-d68e4fcdd0df",
   "metadata": {
    "ExecuteTime": {
     "end_time": "2021-02-23T17:02:43.373600Z",
     "start_time": "2021-02-23T17:01:21.952111Z"
    }
   },
   "outputs": [],
   "source": [
    "for t in T:    \n",
    "    prices[f'{t:02}_CCI'] = CCI(prices.high, prices.low, prices.close, timeperiod=t)"
   ]
  },
  {
   "cell_type": "markdown",
   "id": "c3672f4d-f157-4b5e-bc33-18e5657e8774",
   "metadata": {},
   "source": [
    "### Chande Momentum Oscillator"
   ]
  },
  {
   "cell_type": "code",
   "execution_count": 20,
   "id": "aa9b5d1f-9c67-4a91-be27-9185bcf267f9",
   "metadata": {
    "ExecuteTime": {
     "end_time": "2021-02-23T17:05:18.290515Z",
     "start_time": "2021-02-23T17:02:43.374726Z"
    }
   },
   "outputs": [],
   "source": [
    "for t in T:\n",
    "    prices[f'{t:02}_CMO'] = CMO(prices.close, timeperiod=t)"
   ]
  },
  {
   "cell_type": "markdown",
   "id": "ff5ff34e-dee0-4617-a9a4-3db0203a76bd",
   "metadata": {
    "ExecuteTime": {
     "end_time": "2020-03-20T02:28:43.696896Z",
     "start_time": "2020-03-20T02:28:43.694227Z"
    }
   },
   "source": [
    "### Rate of Change"
   ]
  },
  {
   "cell_type": "markdown",
   "id": "ffe2dad0-86c9-4734-b09b-082c8ad59bf8",
   "metadata": {},
   "source": [
    "Rate of change is a technical indicator that illustrates the speed of price change over a period of time."
   ]
  },
  {
   "cell_type": "code",
   "execution_count": 21,
   "id": "7667352a-ef70-4ef9-b5b5-3cb925aebb30",
   "metadata": {
    "ExecuteTime": {
     "end_time": "2021-02-23T17:07:35.840629Z",
     "start_time": "2021-02-23T17:05:18.291413Z"
    }
   },
   "outputs": [],
   "source": [
    "for t in T:\n",
    "    prices[f'{t:02}_ROC'] = ROC(prices.close, timeperiod=t)"
   ]
  },
  {
   "cell_type": "markdown",
   "id": "c2a1e3fe-329f-4af0-9647-7d68c9cdf291",
   "metadata": {},
   "source": [
    "### Chaikin A/D Oscillator"
   ]
  },
  {
   "cell_type": "code",
   "execution_count": 22,
   "id": "00f4dd1c-2cdc-4720-87d8-9a4fe7c416d0",
   "metadata": {
    "ExecuteTime": {
     "end_time": "2021-02-23T17:08:58.366782Z",
     "start_time": "2021-02-23T17:07:35.841517Z"
    }
   },
   "outputs": [],
   "source": [
    "for t in T:\n",
    "    prices[f'{t:02}_ADOSC'] = ADOSC(prices.high, prices.low, prices.close, prices.volume, fastperiod=t-3, slowperiod=4+t)"
   ]
  },
  {
   "cell_type": "markdown",
   "id": "bfe39e6a-231b-4afe-aefe-af5f3ecb47a0",
   "metadata": {},
   "source": [
    "### Average Directional Movement Index"
   ]
  },
  {
   "cell_type": "code",
   "execution_count": 23,
   "id": "4ecb4c2b-0810-4502-940d-525902c77e9b",
   "metadata": {
    "ExecuteTime": {
     "end_time": "2021-02-23T17:10:24.337030Z",
     "start_time": "2021-02-23T17:08:58.367644Z"
    }
   },
   "outputs": [],
   "source": [
    "for t in T:\n",
    "    fastk, fastd = STOCHF(prices.high, prices.low, prices.close, fastk_period=t, fastd_period=3, fastd_matype=0)\n",
    "    prices[f'{t:02}_FASTD'] = fastd"
   ]
  },
  {
   "cell_type": "markdown",
   "id": "277e7369-9ff3-4d87-96a5-83a54b626c51",
   "metadata": {},
   "source": [
    "### Return"
   ]
  },
  {
   "cell_type": "code",
   "execution_count": 24,
   "id": "66db64dd-0f07-46ff-a688-d1fc8a836a41",
   "metadata": {},
   "outputs": [],
   "source": [
    "for t in T:\n",
    "    prices[f'{t:02}_RETURN'] = prices.close.pct_change(t)"
   ]
  },
  {
   "cell_type": "markdown",
   "id": "d9f948db-320d-4d9a-9fff-a06cbce8b7ee",
   "metadata": {},
   "source": [
    "## Labeling"
   ]
  },
  {
   "cell_type": "code",
   "execution_count": 25,
   "id": "456c8cdd-f9ab-4b3b-af7c-5145b41b7b00",
   "metadata": {},
   "outputs": [],
   "source": [
    "def updown(close, lags = [1,5,21]):\n",
    "    updown = pd.DataFrame()\n",
    "    for lag in lags:\n",
    "        updown[f'{lag}_updown'] = close.pct_change(lag).apply(lambda x : 0 if x >= 0 else 1).shift(-lag)\n",
    "    return updown"
   ]
  },
  {
   "cell_type": "code",
   "execution_count": 26,
   "id": "bb3da68c-30fc-4e27-9925-5a6e5fd18251",
   "metadata": {},
   "outputs": [],
   "source": [
    "lags = [1,5,21]\n",
    "prices[[f'{lag}_updown' for lag in lags]] = updown(prices.close, lags)"
   ]
  },
  {
   "cell_type": "markdown",
   "id": "76af7ccc-7673-4183-a002-d9f200fbafc5",
   "metadata": {
    "tags": []
   },
   "source": [
    "## Save Data"
   ]
  },
  {
   "cell_type": "code",
   "execution_count": 27,
   "id": "307714fc-e2d7-43c8-a63f-fb6da2d2949d",
   "metadata": {},
   "outputs": [],
   "source": [
    "data = prices.drop(columns=[\"open\", \"high\", \"low\", \"volume\"])"
   ]
  },
  {
   "cell_type": "code",
   "execution_count": 28,
   "id": "930afc4c-3c62-4433-be75-463db261fd9a",
   "metadata": {},
   "outputs": [],
   "source": [
    "data.to_csv('data/1.kospi200futures_TI.csv', index=False)"
   ]
  },
  {
   "cell_type": "code",
   "execution_count": 29,
   "id": "f31aded1-87b9-4b09-b50a-8c92fef94808",
   "metadata": {},
   "outputs": [
    {
     "data": {
      "text/html": [
       "<div>\n",
       "<style scoped>\n",
       "    .dataframe tbody tr th:only-of-type {\n",
       "        vertical-align: middle;\n",
       "    }\n",
       "\n",
       "    .dataframe tbody tr th {\n",
       "        vertical-align: top;\n",
       "    }\n",
       "\n",
       "    .dataframe thead th {\n",
       "        text-align: right;\n",
       "    }\n",
       "</style>\n",
       "<table border=\"1\" class=\"dataframe\">\n",
       "  <thead>\n",
       "    <tr style=\"text-align: right;\">\n",
       "      <th></th>\n",
       "      <th>date</th>\n",
       "      <th>time</th>\n",
       "      <th>close</th>\n",
       "      <th>07_RSI</th>\n",
       "      <th>10_RSI</th>\n",
       "      <th>13_RSI</th>\n",
       "      <th>16_RSI</th>\n",
       "      <th>19_RSI</th>\n",
       "      <th>22_RSI</th>\n",
       "      <th>25_RSI</th>\n",
       "      <th>...</th>\n",
       "      <th>34_RETURN</th>\n",
       "      <th>37_RETURN</th>\n",
       "      <th>40_RETURN</th>\n",
       "      <th>43_RETURN</th>\n",
       "      <th>46_RETURN</th>\n",
       "      <th>49_RETURN</th>\n",
       "      <th>52_RETURN</th>\n",
       "      <th>1_updown</th>\n",
       "      <th>5_updown</th>\n",
       "      <th>21_updown</th>\n",
       "    </tr>\n",
       "  </thead>\n",
       "  <tbody>\n",
       "    <tr>\n",
       "      <th>0</th>\n",
       "      <td>20070102</td>\n",
       "      <td>1030</td>\n",
       "      <td>187.15</td>\n",
       "      <td>NaN</td>\n",
       "      <td>NaN</td>\n",
       "      <td>NaN</td>\n",
       "      <td>NaN</td>\n",
       "      <td>NaN</td>\n",
       "      <td>NaN</td>\n",
       "      <td>NaN</td>\n",
       "      <td>...</td>\n",
       "      <td>NaN</td>\n",
       "      <td>NaN</td>\n",
       "      <td>NaN</td>\n",
       "      <td>NaN</td>\n",
       "      <td>NaN</td>\n",
       "      <td>NaN</td>\n",
       "      <td>NaN</td>\n",
       "      <td>1.0</td>\n",
       "      <td>0.0</td>\n",
       "      <td>1.0</td>\n",
       "    </tr>\n",
       "    <tr>\n",
       "      <th>1</th>\n",
       "      <td>20070102</td>\n",
       "      <td>1100</td>\n",
       "      <td>186.75</td>\n",
       "      <td>NaN</td>\n",
       "      <td>NaN</td>\n",
       "      <td>NaN</td>\n",
       "      <td>NaN</td>\n",
       "      <td>NaN</td>\n",
       "      <td>NaN</td>\n",
       "      <td>NaN</td>\n",
       "      <td>...</td>\n",
       "      <td>NaN</td>\n",
       "      <td>NaN</td>\n",
       "      <td>NaN</td>\n",
       "      <td>NaN</td>\n",
       "      <td>NaN</td>\n",
       "      <td>NaN</td>\n",
       "      <td>NaN</td>\n",
       "      <td>0.0</td>\n",
       "      <td>0.0</td>\n",
       "      <td>1.0</td>\n",
       "    </tr>\n",
       "    <tr>\n",
       "      <th>2</th>\n",
       "      <td>20070102</td>\n",
       "      <td>1130</td>\n",
       "      <td>187.35</td>\n",
       "      <td>NaN</td>\n",
       "      <td>NaN</td>\n",
       "      <td>NaN</td>\n",
       "      <td>NaN</td>\n",
       "      <td>NaN</td>\n",
       "      <td>NaN</td>\n",
       "      <td>NaN</td>\n",
       "      <td>...</td>\n",
       "      <td>NaN</td>\n",
       "      <td>NaN</td>\n",
       "      <td>NaN</td>\n",
       "      <td>NaN</td>\n",
       "      <td>NaN</td>\n",
       "      <td>NaN</td>\n",
       "      <td>NaN</td>\n",
       "      <td>0.0</td>\n",
       "      <td>1.0</td>\n",
       "      <td>1.0</td>\n",
       "    </tr>\n",
       "    <tr>\n",
       "      <th>3</th>\n",
       "      <td>20070102</td>\n",
       "      <td>1200</td>\n",
       "      <td>187.45</td>\n",
       "      <td>NaN</td>\n",
       "      <td>NaN</td>\n",
       "      <td>NaN</td>\n",
       "      <td>NaN</td>\n",
       "      <td>NaN</td>\n",
       "      <td>NaN</td>\n",
       "      <td>NaN</td>\n",
       "      <td>...</td>\n",
       "      <td>NaN</td>\n",
       "      <td>NaN</td>\n",
       "      <td>NaN</td>\n",
       "      <td>NaN</td>\n",
       "      <td>NaN</td>\n",
       "      <td>NaN</td>\n",
       "      <td>NaN</td>\n",
       "      <td>1.0</td>\n",
       "      <td>1.0</td>\n",
       "      <td>1.0</td>\n",
       "    </tr>\n",
       "    <tr>\n",
       "      <th>4</th>\n",
       "      <td>20070102</td>\n",
       "      <td>1230</td>\n",
       "      <td>187.35</td>\n",
       "      <td>NaN</td>\n",
       "      <td>NaN</td>\n",
       "      <td>NaN</td>\n",
       "      <td>NaN</td>\n",
       "      <td>NaN</td>\n",
       "      <td>NaN</td>\n",
       "      <td>NaN</td>\n",
       "      <td>...</td>\n",
       "      <td>NaN</td>\n",
       "      <td>NaN</td>\n",
       "      <td>NaN</td>\n",
       "      <td>NaN</td>\n",
       "      <td>NaN</td>\n",
       "      <td>NaN</td>\n",
       "      <td>NaN</td>\n",
       "      <td>0.0</td>\n",
       "      <td>1.0</td>\n",
       "      <td>1.0</td>\n",
       "    </tr>\n",
       "    <tr>\n",
       "      <th>...</th>\n",
       "      <td>...</td>\n",
       "      <td>...</td>\n",
       "      <td>...</td>\n",
       "      <td>...</td>\n",
       "      <td>...</td>\n",
       "      <td>...</td>\n",
       "      <td>...</td>\n",
       "      <td>...</td>\n",
       "      <td>...</td>\n",
       "      <td>...</td>\n",
       "      <td>...</td>\n",
       "      <td>...</td>\n",
       "      <td>...</td>\n",
       "      <td>...</td>\n",
       "      <td>...</td>\n",
       "      <td>...</td>\n",
       "      <td>...</td>\n",
       "      <td>...</td>\n",
       "      <td>...</td>\n",
       "      <td>...</td>\n",
       "      <td>...</td>\n",
       "    </tr>\n",
       "    <tr>\n",
       "      <th>49442</th>\n",
       "      <td>20211230</td>\n",
       "      <td>1400</td>\n",
       "      <td>394.75</td>\n",
       "      <td>36.806190</td>\n",
       "      <td>38.738755</td>\n",
       "      <td>40.768487</td>\n",
       "      <td>42.467639</td>\n",
       "      <td>43.865237</td>\n",
       "      <td>45.023160</td>\n",
       "      <td>45.987350</td>\n",
       "      <td>...</td>\n",
       "      <td>0.001395</td>\n",
       "      <td>0.002540</td>\n",
       "      <td>0.000253</td>\n",
       "      <td>-0.000759</td>\n",
       "      <td>-0.002779</td>\n",
       "      <td>-0.001518</td>\n",
       "      <td>-0.005668</td>\n",
       "      <td>1.0</td>\n",
       "      <td>NaN</td>\n",
       "      <td>NaN</td>\n",
       "    </tr>\n",
       "    <tr>\n",
       "      <th>49443</th>\n",
       "      <td>20211230</td>\n",
       "      <td>1430</td>\n",
       "      <td>394.30</td>\n",
       "      <td>31.838080</td>\n",
       "      <td>35.216103</td>\n",
       "      <td>37.958982</td>\n",
       "      <td>40.101412</td>\n",
       "      <td>41.809076</td>\n",
       "      <td>43.200465</td>\n",
       "      <td>44.349486</td>\n",
       "      <td>...</td>\n",
       "      <td>0.000634</td>\n",
       "      <td>-0.002025</td>\n",
       "      <td>-0.000507</td>\n",
       "      <td>-0.001266</td>\n",
       "      <td>-0.003790</td>\n",
       "      <td>-0.003160</td>\n",
       "      <td>-0.005549</td>\n",
       "      <td>1.0</td>\n",
       "      <td>NaN</td>\n",
       "      <td>NaN</td>\n",
       "    </tr>\n",
       "    <tr>\n",
       "      <th>49444</th>\n",
       "      <td>20211230</td>\n",
       "      <td>1500</td>\n",
       "      <td>393.75</td>\n",
       "      <td>26.699229</td>\n",
       "      <td>31.345276</td>\n",
       "      <td>34.784966</td>\n",
       "      <td>37.385707</td>\n",
       "      <td>39.424899</td>\n",
       "      <td>41.071484</td>\n",
       "      <td>42.425739</td>\n",
       "      <td>...</td>\n",
       "      <td>-0.001521</td>\n",
       "      <td>-0.001015</td>\n",
       "      <td>-0.001395</td>\n",
       "      <td>-0.003165</td>\n",
       "      <td>-0.003921</td>\n",
       "      <td>-0.005305</td>\n",
       "      <td>-0.002154</td>\n",
       "      <td>0.0</td>\n",
       "      <td>NaN</td>\n",
       "      <td>NaN</td>\n",
       "    </tr>\n",
       "    <tr>\n",
       "      <th>49445</th>\n",
       "      <td>20211230</td>\n",
       "      <td>1530</td>\n",
       "      <td>394.45</td>\n",
       "      <td>40.870413</td>\n",
       "      <td>40.581179</td>\n",
       "      <td>41.526394</td>\n",
       "      <td>42.657559</td>\n",
       "      <td>43.735325</td>\n",
       "      <td>44.704850</td>\n",
       "      <td>45.556633</td>\n",
       "      <td>...</td>\n",
       "      <td>-0.000253</td>\n",
       "      <td>0.000634</td>\n",
       "      <td>0.001778</td>\n",
       "      <td>-0.000507</td>\n",
       "      <td>-0.001519</td>\n",
       "      <td>-0.003537</td>\n",
       "      <td>-0.002276</td>\n",
       "      <td>1.0</td>\n",
       "      <td>NaN</td>\n",
       "      <td>NaN</td>\n",
       "    </tr>\n",
       "    <tr>\n",
       "      <th>49446</th>\n",
       "      <td>20211230</td>\n",
       "      <td>1545</td>\n",
       "      <td>394.25</td>\n",
       "      <td>38.396053</td>\n",
       "      <td>38.919065</td>\n",
       "      <td>40.238903</td>\n",
       "      <td>41.590366</td>\n",
       "      <td>42.816464</td>\n",
       "      <td>43.894763</td>\n",
       "      <td>44.831062</td>\n",
       "      <td>...</td>\n",
       "      <td>-0.002025</td>\n",
       "      <td>0.000508</td>\n",
       "      <td>-0.002151</td>\n",
       "      <td>-0.000634</td>\n",
       "      <td>-0.001393</td>\n",
       "      <td>-0.003916</td>\n",
       "      <td>-0.003287</td>\n",
       "      <td>NaN</td>\n",
       "      <td>NaN</td>\n",
       "      <td>NaN</td>\n",
       "    </tr>\n",
       "  </tbody>\n",
       "</table>\n",
       "<p>49447 rows × 262 columns</p>\n",
       "</div>"
      ],
      "text/plain": [
       "           date  time   close     07_RSI     10_RSI     13_RSI     16_RSI  \\\n",
       "0      20070102  1030  187.15        NaN        NaN        NaN        NaN   \n",
       "1      20070102  1100  186.75        NaN        NaN        NaN        NaN   \n",
       "2      20070102  1130  187.35        NaN        NaN        NaN        NaN   \n",
       "3      20070102  1200  187.45        NaN        NaN        NaN        NaN   \n",
       "4      20070102  1230  187.35        NaN        NaN        NaN        NaN   \n",
       "...         ...   ...     ...        ...        ...        ...        ...   \n",
       "49442  20211230  1400  394.75  36.806190  38.738755  40.768487  42.467639   \n",
       "49443  20211230  1430  394.30  31.838080  35.216103  37.958982  40.101412   \n",
       "49444  20211230  1500  393.75  26.699229  31.345276  34.784966  37.385707   \n",
       "49445  20211230  1530  394.45  40.870413  40.581179  41.526394  42.657559   \n",
       "49446  20211230  1545  394.25  38.396053  38.919065  40.238903  41.590366   \n",
       "\n",
       "          19_RSI     22_RSI     25_RSI  ...  34_RETURN  37_RETURN  40_RETURN  \\\n",
       "0            NaN        NaN        NaN  ...        NaN        NaN        NaN   \n",
       "1            NaN        NaN        NaN  ...        NaN        NaN        NaN   \n",
       "2            NaN        NaN        NaN  ...        NaN        NaN        NaN   \n",
       "3            NaN        NaN        NaN  ...        NaN        NaN        NaN   \n",
       "4            NaN        NaN        NaN  ...        NaN        NaN        NaN   \n",
       "...          ...        ...        ...  ...        ...        ...        ...   \n",
       "49442  43.865237  45.023160  45.987350  ...   0.001395   0.002540   0.000253   \n",
       "49443  41.809076  43.200465  44.349486  ...   0.000634  -0.002025  -0.000507   \n",
       "49444  39.424899  41.071484  42.425739  ...  -0.001521  -0.001015  -0.001395   \n",
       "49445  43.735325  44.704850  45.556633  ...  -0.000253   0.000634   0.001778   \n",
       "49446  42.816464  43.894763  44.831062  ...  -0.002025   0.000508  -0.002151   \n",
       "\n",
       "       43_RETURN  46_RETURN  49_RETURN  52_RETURN  1_updown  5_updown  \\\n",
       "0            NaN        NaN        NaN        NaN       1.0       0.0   \n",
       "1            NaN        NaN        NaN        NaN       0.0       0.0   \n",
       "2            NaN        NaN        NaN        NaN       0.0       1.0   \n",
       "3            NaN        NaN        NaN        NaN       1.0       1.0   \n",
       "4            NaN        NaN        NaN        NaN       0.0       1.0   \n",
       "...          ...        ...        ...        ...       ...       ...   \n",
       "49442  -0.000759  -0.002779  -0.001518  -0.005668       1.0       NaN   \n",
       "49443  -0.001266  -0.003790  -0.003160  -0.005549       1.0       NaN   \n",
       "49444  -0.003165  -0.003921  -0.005305  -0.002154       0.0       NaN   \n",
       "49445  -0.000507  -0.001519  -0.003537  -0.002276       1.0       NaN   \n",
       "49446  -0.000634  -0.001393  -0.003916  -0.003287       NaN       NaN   \n",
       "\n",
       "       21_updown  \n",
       "0            1.0  \n",
       "1            1.0  \n",
       "2            1.0  \n",
       "3            1.0  \n",
       "4            1.0  \n",
       "...          ...  \n",
       "49442        NaN  \n",
       "49443        NaN  \n",
       "49444        NaN  \n",
       "49445        NaN  \n",
       "49446        NaN  \n",
       "\n",
       "[49447 rows x 262 columns]"
      ]
     },
     "execution_count": 29,
     "metadata": {},
     "output_type": "execute_result"
    }
   ],
   "source": [
    "data"
   ]
  },
  {
   "cell_type": "code",
   "execution_count": null,
   "id": "f4dd7e7d-d275-4fb0-a038-8ec0fd4db344",
   "metadata": {},
   "outputs": [],
   "source": []
  }
 ],
 "metadata": {
  "kernelspec": {
   "display_name": "Python 3 (ipykernel)",
   "language": "python",
   "name": "python3"
  },
  "language_info": {
   "codemirror_mode": {
    "name": "ipython",
    "version": 3
   },
   "file_extension": ".py",
   "mimetype": "text/x-python",
   "name": "python",
   "nbconvert_exporter": "python",
   "pygments_lexer": "ipython3",
   "version": "3.7.6"
  },
  "toc-autonumbering": true
 },
 "nbformat": 4,
 "nbformat_minor": 5
}
